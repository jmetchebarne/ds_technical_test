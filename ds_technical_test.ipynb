{
 "cells": [
  {
   "cell_type": "markdown",
   "metadata": {},
   "source": [
    "# Data Scientist Technical Test"
   ]
  },
  {
   "cell_type": "markdown",
   "metadata": {},
   "source": [
    "The following test was created for the interview process for the Data Scientist Role at the Jooycar Data Team consisting in a real case scenario.\n",
    "\n",
    "## Business Case:\n",
    "\n",
    "Jooycar is an Insurtech Company focused on improving the driving behavior of our customers by using the power of telematics.\n",
    "We divide our lines of businesses in two groups: Individual Customers and Fleets. \n",
    "\n",
    "In order to test the ability of the applying candidate, we have provided a fake Mongo Database (working the same way as a real one does) that needs to be called by using the Pymongo API providing information of recently joined fleets. This means that we don't know much about them. So your task will be to explore the given information and provide as much insights as possible using your Data Science Skills. In order to do that we provide the following Metadata:\n",
    "\n",
    "* Tenants Collection: Includes info about the fleets, including id, name and country of origin.\n",
    "* Devices Collection: Includes info about the devices we plug into the vehicle. It will include information about the status of the devices plus the different relationships with the rest of the collections.\n",
    "* Vehicles Collection: Includes info about the vehicle including brand, model, plate number, and relationships to other collections.\n",
    "\n",
    "Additionally, we have included a pre-report with aggregated telematic data in a csv format. This info corresponds to information that can be obtained by using our device and it was generated using data of the first week of every fleet working with us.\n",
    "\n",
    "We are expecting the candidate can at least present the following:\n",
    "\n",
    "* Code used to carry out the analysis (uploaded to your Github Account).\n",
    "* The candidate should sort out the dependencies to create the fake database provided.\n",
    "* It is expected the code leverages popular Data Science Tools such as pandas, matplotlib, seaborn, etc.\n",
    "* You are expected to report all the insights found such as, but not limited to, the following:\n",
    "    * Number of New Fleets.\n",
    "    * Vehicles per Fleet.\n",
    "    * Analysis of the Devices.\n",
    "    * Analysis regarding the Driving Behavior.\n",
    "    * Analysis associated to the Company Activity.\n",
    "    * and so on.\n",
    "* You are expected to also report discrepancies, and inconsistencies on the data provided.\n",
    "    \n",
    "The final deliverable showing your findings is up to you and it can be a Slide Presentation, an interactive Dashboard, or a Jupyter Notebook."
   ]
  },
  {
   "cell_type": "code",
   "execution_count": 1,
   "metadata": {},
   "outputs": [],
   "source": [
    "# This chunk will create 3 fake collections: tenants, devices, vehicles.\n",
    "# The structure of this collections are fully compatible with Pymongo API.\n",
    "# https://pymongo.readthedocs.io/en/stable/tutorial.html Here is the Documentation in case you are not familiar with MongoDB.\n",
    "from helpers import create_mongodb\n",
    "tenants, devices, vehicles = create_mongodb() # these are every one of the collections to be called."
   ]
  },
  {
   "cell_type": "markdown",
   "metadata": {},
   "source": [
    "In order to access to any collection you can do the following:"
   ]
  },
  {
   "cell_type": "code",
   "execution_count": 2,
   "metadata": {
    "scrolled": true
   },
   "outputs": [
    {
     "data": {
      "text/plain": [
       "[{'_id': ObjectId('5d657e698a5f6942db9f3c11'),\n",
       "  'display': {'brand': 'Volkswagen', 'model': 'Beetle'},\n",
       "  'plate': 'ALU 527',\n",
       "  'user_id': ObjectId('5d657c938a5f6942db9f3c09'),\n",
       "  'device_id': ObjectId('5880e24d00ad707e0eae9e77')},\n",
       " {'_id': ObjectId('5d9f26b5eaa32726e8431512'),\n",
       "  'display': {'brand': 'SEAT', 'model': 'IBIZA'},\n",
       "  'plate': 'VQN 500',\n",
       "  'user_id': ObjectId('5d9f249eeaa32726e8431506'),\n",
       "  'device_id': ObjectId('5b6b0f8eaeb12127dda51593')},\n",
       " {'_id': ObjectId('5d9f26e6eaa32726e8431513'),\n",
       "  'display': {'brand': 'Volkswagen', 'model': 'Polo'},\n",
       "  'plate': 'F13 2KV',\n",
       "  'user_id': ObjectId('5d9f2514eaa32726e8431509'),\n",
       "  'device_id': ObjectId('5b6b0f90aeb12127dda515b9')},\n",
       " {'_id': ObjectId('5d9f2710eaa32726e8431517'),\n",
       "  'display': {'brand': 'Hyundai', 'model': 'Accent'},\n",
       "  'plate': '782GVC',\n",
       "  'user_id': ObjectId('5d9f25a1eaa32726e843150b'),\n",
       "  'device_id': ObjectId('5b6b0f8eaeb12127dda5158a')},\n",
       " {'_id': ObjectId('5d9f273feaa32726e843151a'),\n",
       "  'display': {'brand': 'Chevrolet', 'model': 'Spark'},\n",
       "  'plate': 'WVC-452',\n",
       "  'user_id': ObjectId('5d9f25f3eaa32726e843150d'),\n",
       "  'device_id': ObjectId('5b6b0f8faeb12127dda515a9')}]"
      ]
     },
     "execution_count": 2,
     "metadata": {},
     "output_type": "execute_result"
    }
   ],
   "source": [
    "list(vehicles.find({}))[:5]"
   ]
  },
  {
   "cell_type": "markdown",
   "metadata": {},
   "source": [
    "> This is one way to access the data, although Pymongo recommends using Python Comprehensions  (and so do we) to make sure you are fetching the correct fields."
   ]
  },
  {
   "cell_type": "markdown",
   "metadata": {},
   "source": [
    "> Additionally, notice that every collection has its own **\"_id\"** field. This is a proper MongoDB characteristic and **\"_id\"** will be the unique identifier of the collection. You can use **\"_id\"** to combine info with other collections by using it accordingly."
   ]
  },
  {
   "cell_type": "markdown",
   "metadata": {},
   "source": [
    "The `telematics.csv` file includes info regarding behavior at the client level. You can access the data by using pandas:"
   ]
  },
  {
   "cell_type": "code",
   "execution_count": 3,
   "metadata": {},
   "outputs": [
    {
     "data": {
      "text/html": [
       "<div>\n",
       "<style scoped>\n",
       "    .dataframe tbody tr th:only-of-type {\n",
       "        vertical-align: middle;\n",
       "    }\n",
       "\n",
       "    .dataframe tbody tr th {\n",
       "        vertical-align: top;\n",
       "    }\n",
       "\n",
       "    .dataframe thead th {\n",
       "        text-align: right;\n",
       "    }\n",
       "</style>\n",
       "<table border=\"1\" class=\"dataframe\">\n",
       "  <thead>\n",
       "    <tr style=\"text-align: right;\">\n",
       "      <th></th>\n",
       "      <th>user_id</th>\n",
       "      <th>distance (km)</th>\n",
       "      <th>hard_accels_q</th>\n",
       "      <th>hard_breaks_q</th>\n",
       "      <th>max_speed_km_h</th>\n",
       "      <th>avg_speed</th>\n",
       "      <th>n_trips</th>\n",
       "      <th>user_name</th>\n",
       "    </tr>\n",
       "  </thead>\n",
       "  <tbody>\n",
       "    <tr>\n",
       "      <th>0</th>\n",
       "      <td>5d657c938a5f6942db9f3c09</td>\n",
       "      <td>463.97</td>\n",
       "      <td>710.0</td>\n",
       "      <td>40.0</td>\n",
       "      <td>136.0</td>\n",
       "      <td>39.55</td>\n",
       "      <td>57.0</td>\n",
       "      <td>Hunter Tucker</td>\n",
       "    </tr>\n",
       "    <tr>\n",
       "      <th>1</th>\n",
       "      <td>5d9f249eeaa32726e8431506</td>\n",
       "      <td>565.48</td>\n",
       "      <td>882.0</td>\n",
       "      <td>85.0</td>\n",
       "      <td>150.0</td>\n",
       "      <td>41.20</td>\n",
       "      <td>88.0</td>\n",
       "      <td>Sharon Hammond MD</td>\n",
       "    </tr>\n",
       "    <tr>\n",
       "      <th>2</th>\n",
       "      <td>5d9f2514eaa32726e8431509</td>\n",
       "      <td>0.00</td>\n",
       "      <td>0.0</td>\n",
       "      <td>0.0</td>\n",
       "      <td>0.0</td>\n",
       "      <td>0.00</td>\n",
       "      <td>0.0</td>\n",
       "      <td>Kimberly Edwards</td>\n",
       "    </tr>\n",
       "    <tr>\n",
       "      <th>3</th>\n",
       "      <td>5d9f25a1eaa32726e843150b</td>\n",
       "      <td>346.12</td>\n",
       "      <td>384.0</td>\n",
       "      <td>22.0</td>\n",
       "      <td>94.0</td>\n",
       "      <td>36.35</td>\n",
       "      <td>80.0</td>\n",
       "      <td>Ryan Lyons</td>\n",
       "    </tr>\n",
       "    <tr>\n",
       "      <th>4</th>\n",
       "      <td>5da767dee5db1457a98497be</td>\n",
       "      <td>843.80</td>\n",
       "      <td>1620.0</td>\n",
       "      <td>86.0</td>\n",
       "      <td>128.0</td>\n",
       "      <td>40.64</td>\n",
       "      <td>97.0</td>\n",
       "      <td>Denise Deleon</td>\n",
       "    </tr>\n",
       "  </tbody>\n",
       "</table>\n",
       "</div>"
      ],
      "text/plain": [
       "                    user_id  distance (km)  hard_accels_q  hard_breaks_q  max_speed_km_h  avg_speed  n_trips          user_name\n",
       "0  5d657c938a5f6942db9f3c09         463.97          710.0           40.0           136.0      39.55     57.0      Hunter Tucker\n",
       "1  5d9f249eeaa32726e8431506         565.48          882.0           85.0           150.0      41.20     88.0  Sharon Hammond MD\n",
       "2  5d9f2514eaa32726e8431509           0.00            0.0            0.0             0.0       0.00      0.0   Kimberly Edwards\n",
       "3  5d9f25a1eaa32726e843150b         346.12          384.0           22.0            94.0      36.35     80.0         Ryan Lyons\n",
       "4  5da767dee5db1457a98497be         843.80         1620.0           86.0           128.0      40.64     97.0      Denise Deleon"
      ]
     },
     "execution_count": 3,
     "metadata": {},
     "output_type": "execute_result"
    }
   ],
   "source": [
    "import pandas as pd\n",
    "pd.set_option('display.width', 1000)\n",
    "pd.set_option('display.max_info_columns', 90)\n",
    "pd.read_csv('telematics.csv').head()"
   ]
  },
  {
   "cell_type": "code",
   "execution_count": 4,
   "metadata": {},
   "outputs": [
    {
     "data": {
      "text/plain": [
       "[{'_id': ObjectId('5f09b342fc04f0058f569c5f'),\n",
       "  'country': 'US',\n",
       "  'company': 'Chang-Fisher'},\n",
       " {'_id': ObjectId('5f0cc718c1b2b360ec398d56'),\n",
       "  'country': 'CAN',\n",
       "  'company': 'Sheppard-Tucker'},\n",
       " {'_id': ObjectId('5f0ced25acac95702f00a708'),\n",
       "  'country': 'CAN',\n",
       "  'company': 'Faulkner-Howard'},\n",
       " {'_id': ObjectId('5f0d16573eff27739fba9606'),\n",
       "  'country': 'US',\n",
       "  'company': 'Wagner LLC'},\n",
       " {'_id': ObjectId('5f0d168db55cd673b02216a5'),\n",
       "  'country': 'US',\n",
       "  'company': 'Campos PLC'},\n",
       " {'_id': ObjectId('5f0d16ec6cb9a37440f29a44'),\n",
       "  'country': 'CAN',\n",
       "  'company': 'Archer-Patel'},\n",
       " {'_id': ObjectId('5f0d1722a58a4f744ad80a96'),\n",
       "  'country': 'US',\n",
       "  'company': 'Patrick, Barrera and Collins'},\n",
       " {'_id': ObjectId('5f0d1762fc1fde746982bde1'),\n",
       "  'country': 'CAN',\n",
       "  'company': 'Jones, Jefferson and Rivera'},\n",
       " {'_id': ObjectId('5f0d17faf90b31750fbc32bf'),\n",
       "  'country': 'CAN',\n",
       "  'company': 'Garcia, Hamilton and Carr'},\n",
       " {'_id': ObjectId('5f0d1989f2ebfe7663ffe4eb'),\n",
       "  'country': 'US',\n",
       "  'company': 'Levy Group'},\n",
       " {'_id': ObjectId('5f0d19b5ad23cf7676fe4f9c'),\n",
       "  'country': 'CAN',\n",
       "  'company': 'Grimes-Green'},\n",
       " {'_id': ObjectId('5f0d19f4497228768ad8950c'),\n",
       "  'country': 'US',\n",
       "  'company': 'Moon, Davis and Larsen'},\n",
       " {'_id': ObjectId('5f0d1a3717a242771512b545'),\n",
       "  'country': 'US',\n",
       "  'company': 'Summers, Barnett and Smith'},\n",
       " {'_id': ObjectId('5f0d1a7bd449707729607d3d'),\n",
       "  'country': 'CAN',\n",
       "  'company': 'Clayton-Cook'},\n",
       " {'_id': ObjectId('5f0d1ad4b4384077ad68969c'),\n",
       "  'country': 'US',\n",
       "  'company': 'Nguyen, Harrell and Lee'},\n",
       " {'_id': ObjectId('5f0d1b0e38dcd477c223339c'),\n",
       "  'country': 'US',\n",
       "  'company': 'Walker, Pratt and Thomas'},\n",
       " {'_id': ObjectId('5f0d1b3efddc6d77d4e696c4'),\n",
       "  'country': 'US',\n",
       "  'company': 'West, Miller and Flores'},\n",
       " {'_id': ObjectId('5f0d1b7b50e419784e6ef8f8'),\n",
       "  'country': 'CAN',\n",
       "  'company': 'Bolton, Burns and Turner'},\n",
       " {'_id': ObjectId('5f0d1bbc16140c78723d0a34'),\n",
       "  'country': 'CAN',\n",
       "  'company': 'Mann-Kelley'},\n",
       " {'_id': ObjectId('5f0d1bf637a0e8789385750a'),\n",
       "  'country': 'CAN',\n",
       "  'company': 'Harris, Lloyd and Payne'},\n",
       " {'_id': ObjectId('5f0d1c2cba83787904c965e6'),\n",
       "  'country': 'CAN',\n",
       "  'company': 'Wallace-Carlson'},\n",
       " {'_id': ObjectId('5f0d1c5946b779791d15e7c8'),\n",
       "  'country': 'CAN',\n",
       "  'company': 'Stewart-Allen'},\n",
       " {'_id': ObjectId('5f0d1cbc8faedb794ba62a51'),\n",
       "  'country': 'US',\n",
       "  'company': 'Lopez and Sons'},\n",
       " {'_id': ObjectId('5f0d1cf20babbc79c87945f4'),\n",
       "  'country': 'CAN',\n",
       "  'company': 'Salazar Ltd'},\n",
       " {'_id': ObjectId('5f0d1d1aa1934379d9f5fa79'),\n",
       "  'country': 'US',\n",
       "  'company': 'Alvarez-Davis'},\n",
       " {'_id': ObjectId('5f0d1d47721bb579ffc1f3ac'),\n",
       "  'country': 'CAN',\n",
       "  'company': 'Mcdowell Inc'},\n",
       " {'_id': ObjectId('5f0d1d72465d807a0e727020'),\n",
       "  'country': 'US',\n",
       "  'company': 'Villanueva PLC'},\n",
       " {'_id': ObjectId('5f0d1da5487fd47a8b382b86'),\n",
       "  'country': 'CAN',\n",
       "  'company': 'Myers, Thornton and Hill'},\n",
       " {'_id': ObjectId('5f0d1dd22cc9317aa5f11ca1'),\n",
       "  'country': 'US',\n",
       "  'company': 'Atkinson Ltd'},\n",
       " {'_id': ObjectId('5f0d1dffbfe7b77ab8a590ca'),\n",
       "  'country': 'US',\n",
       "  'company': 'Bryan, Barnes and Hill'},\n",
       " {'_id': ObjectId('5f0d1e22196adc7ac8f9aaec'),\n",
       "  'country': 'US',\n",
       "  'company': 'Keller-Davies'},\n",
       " {'_id': ObjectId('5f6aae05d5207725bd60fa42'),\n",
       "  'country': 'CAN',\n",
       "  'company': 'Miller-Salazar'},\n",
       " {'_id': ObjectId('5f6ab448ae747429401dbae0'),\n",
       "  'country': 'US',\n",
       "  'company': 'Matthews-Rogers'},\n",
       " {'_id': ObjectId('5f6ab67bf633c92acaa8ffdc'),\n",
       "  'country': 'US',\n",
       "  'company': 'Sanchez Ltd'},\n",
       " {'_id': ObjectId('5f7b3bb00fea7573f8bc603b'),\n",
       "  'country': 'US',\n",
       "  'company': 'Wilson-Robinson'},\n",
       " {'_id': ObjectId('6080714a9e387a309e733655'),\n",
       "  'country': 'CAN',\n",
       "  'company': 'Cook Inc'},\n",
       " {'_id': ObjectId('60e4bf60670a5a8706635276'),\n",
       "  'country': 'CAN',\n",
       "  'company': 'Logan Ltd'},\n",
       " {'_id': ObjectId('60e6372f1fbc03b8a901031c'),\n",
       "  'country': 'CAN',\n",
       "  'company': 'Williams PLC'},\n",
       " {'_id': ObjectId('60ecb807a18dc907a6379ca5'),\n",
       "  'country': 'CAN',\n",
       "  'company': 'Kent, Ferguson and Becker'},\n",
       " {'_id': ObjectId('60f094998926b99f41ff5d07'),\n",
       "  'country': 'CAN',\n",
       "  'company': 'Martinez and Sons'},\n",
       " {'_id': ObjectId('6109766f93cc0a2c29b88cf9'),\n",
       "  'country': 'US',\n",
       "  'company': 'Greer, Wilson and Davis'},\n",
       " {'_id': ObjectId('610d479c7c2cc58547bdabe9'),\n",
       "  'country': 'US',\n",
       "  'company': 'Johnson Inc'},\n",
       " {'_id': ObjectId('612d59e38d2e3779692f176e'),\n",
       "  'country': 'CAN',\n",
       "  'company': 'Woodward and Sons'},\n",
       " {'_id': ObjectId('612d5b136d960b79743ae19d'),\n",
       "  'country': 'US',\n",
       "  'company': 'Martinez, Clark and Owen'},\n",
       " {'_id': ObjectId('6137cd1ede8e0d09f957b2f1'),\n",
       "  'country': 'CAN',\n",
       "  'company': 'Johnson, Coleman and Garcia'}]"
      ]
     },
     "execution_count": 4,
     "metadata": {},
     "output_type": "execute_result"
    }
   ],
   "source": [
    "list(tenants.find({}))"
   ]
  },
  {
   "cell_type": "markdown",
   "metadata": {},
   "source": [
    "### Data Analysis"
   ]
  },
  {
   "cell_type": "markdown",
   "metadata": {},
   "source": [
    "In this section, we'll take a look on the data that we are going to work with. Also, we'll transform these datasets to DataFrames."
   ]
  },
  {
   "cell_type": "code",
   "execution_count": 5,
   "metadata": {},
   "outputs": [],
   "source": [
    "df_tenants = pd.DataFrame(list(tenants.find({})))\n",
    "df_devices = pd.DataFrame(list(devices.find({})))\n",
    "df_vehicles = pd.DataFrame(list(vehicles.find({})))"
   ]
  },
  {
   "cell_type": "code",
   "execution_count": 6,
   "metadata": {},
   "outputs": [
    {
     "name": "stdout",
     "output_type": "stream",
     "text": [
      "Tenants shape:  (45, 3)\n",
      "Tenants dtypes: \n",
      " _id        object\n",
      "country    object\n",
      "company    object\n",
      "dtype: object\n",
      "\n",
      "Devices shape:  (411, 5)\n",
      "Devices dtypes: \n",
      " _id           object\n",
      "status        object\n",
      "imei          object\n",
      "vehicle_id    object\n",
      "tenant_id     object\n",
      "dtype: object\n",
      "\n",
      "Vehicles shape:  (426, 5)\n",
      "Vehicles dtypes: \n",
      " _id          object\n",
      "display      object\n",
      "plate        object\n",
      "user_id      object\n",
      "device_id    object\n",
      "dtype: object\n"
     ]
    }
   ],
   "source": [
    "# We study the data type for each column of each dataset.\n",
    "print('Tenants shape: ', df_tenants.shape)\n",
    "print('Tenants dtypes: \\n', df_tenants.dtypes)\n",
    "print('')\n",
    "print('Devices shape: ', df_devices.shape)\n",
    "print('Devices dtypes: \\n', df_devices.dtypes)\n",
    "print('')\n",
    "print('Vehicles shape: ', df_vehicles.shape)\n",
    "print('Vehicles dtypes: \\n', df_vehicles.dtypes)"
   ]
  },
  {
   "cell_type": "code",
   "execution_count": 7,
   "metadata": {},
   "outputs": [
    {
     "name": "stdout",
     "output_type": "stream",
     "text": [
      "Tenants first 5 rows: \n",
      "                         _id country          company\n",
      "0  5f09b342fc04f0058f569c5f      US     Chang-Fisher\n",
      "1  5f0cc718c1b2b360ec398d56     CAN  Sheppard-Tucker\n",
      "2  5f0ced25acac95702f00a708     CAN  Faulkner-Howard\n",
      "3  5f0d16573eff27739fba9606      US       Wagner LLC\n",
      "4  5f0d168db55cd673b02216a5      US       Campos PLC\n",
      "\n",
      "Devices first 5 rows: \n",
      "                         _id    status           imei                vehicle_id                                          tenant_id\n",
      "0  5e7a40e523711d7a967d8182    active  7248867465861  5f09b343fc04f0058f569c61  [5f09b342fc04f0058f569c5f, 603964d57aeee85fb61...\n",
      "1  5e7a40e423711d7a967d80f6    active  7559633721153  5f0cd1df2ffa7a66eebf2468  [5f0cc718c1b2b360ec398d56, 603964d57aeee85fb61...\n",
      "2  5e7a40e423711d7a967d80e0    active  8829750537238  5f0cd1de2ffa7a66eebf2467  [5f0cc718c1b2b360ec398d56, 603964d57aeee85fb61...\n",
      "3  5e7a40e423711d7a967d8102  inactive  5110204273777  5f0cd1dc2ffa7a66eebf2466  [5f0cc718c1b2b360ec398d56, 603964d57aeee85fb61...\n",
      "4  5e7a40e323711d7a967d8096    active  9212232493700  5f0cd1d92ffa7a66eebf2464  [5f0cc718c1b2b360ec398d56, 603964d57aeee85fb61...\n",
      "\n",
      "Vehicles first 5 rows: \n",
      "                         _id                                     display    plate                   user_id                 device_id\n",
      "0  5d657e698a5f6942db9f3c11  {'brand': 'Volkswagen', 'model': 'Beetle'}  ALU 527  5d657c938a5f6942db9f3c09  5880e24d00ad707e0eae9e77\n",
      "1  5d9f26b5eaa32726e8431512         {'brand': 'SEAT', 'model': 'IBIZA'}  VQN 500  5d9f249eeaa32726e8431506  5b6b0f8eaeb12127dda51593\n",
      "2  5d9f26e6eaa32726e8431513    {'brand': 'Volkswagen', 'model': 'Polo'}  F13 2KV  5d9f2514eaa32726e8431509  5b6b0f90aeb12127dda515b9\n",
      "3  5d9f2710eaa32726e8431517     {'brand': 'Hyundai', 'model': 'Accent'}   782GVC  5d9f25a1eaa32726e843150b  5b6b0f8eaeb12127dda5158a\n",
      "4  5d9f273feaa32726e843151a    {'brand': 'Chevrolet', 'model': 'Spark'}  WVC-452  5d9f25f3eaa32726e843150d  5b6b0f8faeb12127dda515a9\n"
     ]
    }
   ],
   "source": [
    "# Given that the previous part didn't give much information, we'll use df.head for each DataFrame for further inspection.\n",
    "print('Tenants first 5 rows: \\n', df_tenants.head())\n",
    "print('')\n",
    "print('Devices first 5 rows: \\n', df_devices.head())\n",
    "print('')\n",
    "print('Vehicles first 5 rows: \\n', df_vehicles.head())"
   ]
  },
  {
   "cell_type": "code",
   "execution_count": 8,
   "metadata": {},
   "outputs": [
    {
     "name": "stdout",
     "output_type": "stream",
     "text": [
      "Telematics shape:  (260, 8)\n",
      "Telematics dtypes: \n",
      " user_id            object\n",
      "distance (km)     float64\n",
      "hard_accels_q     float64\n",
      "hard_breaks_q     float64\n",
      "max_speed_km_h    float64\n",
      "avg_speed         float64\n",
      "n_trips           float64\n",
      "user_name          object\n",
      "dtype: object\n",
      "\n",
      "Telematics first 5 rows: \n",
      "                     user_id  distance (km)  hard_accels_q  hard_breaks_q  max_speed_km_h  avg_speed  n_trips          user_name\n",
      "0  5d657c938a5f6942db9f3c09         463.97          710.0           40.0           136.0      39.55     57.0      Hunter Tucker\n",
      "1  5d9f249eeaa32726e8431506         565.48          882.0           85.0           150.0      41.20     88.0  Sharon Hammond MD\n",
      "2  5d9f2514eaa32726e8431509           0.00            0.0            0.0             0.0       0.00      0.0   Kimberly Edwards\n",
      "3  5d9f25a1eaa32726e843150b         346.12          384.0           22.0            94.0      36.35     80.0         Ryan Lyons\n",
      "4  5da767dee5db1457a98497be         843.80         1620.0           86.0           128.0      40.64     97.0      Denise Deleon\n"
     ]
    }
   ],
   "source": [
    "# And we do the same for the telematics.csv file\n",
    "df_telematics = pd.read_csv('telematics.csv')\n",
    "print('Telematics shape: ', df_telematics.shape)\n",
    "print('Telematics dtypes: \\n', df_telematics.dtypes)\n",
    "print('')\n",
    "print('Telematics first 5 rows: \\n', df_telematics.head())"
   ]
  },
  {
   "cell_type": "code",
   "execution_count": 9,
   "metadata": {},
   "outputs": [],
   "source": [
    "# The next thing we are going to do, is for both Devices and Vehicles DataFrames, we'll expand the columns that have \n",
    "# dictionary, in the case of Vehicles, and lists, for Devices, in order to get a better grasp of the data.\n",
    "df_vehicles['display_brand'] = [x['brand'] for x in df_vehicles['display']]\n",
    "df_vehicles['display_model'] = [x['model'] for x in df_vehicles['display']]\n",
    "df_vehicles.drop(columns=['display'], inplace = True)\n",
    "\n",
    "# For the devices, the procedure is slightly different, because we'd like to repeat the data for each unique element\n",
    "# of each list. In this case, we'll use pandas explode function.\n",
    "df_devices = df_devices.explode('tenant_id')\n",
    "df_devices.reset_index(drop=True,inplace=True)"
   ]
  },
  {
   "cell_type": "code",
   "execution_count": 10,
   "metadata": {},
   "outputs": [
    {
     "name": "stdout",
     "output_type": "stream",
     "text": [
      "Number of repeated rows for telematics:  0\n",
      "Number of repeated rows for tenants:  0\n",
      "Number of repeated rows for vehicles:  0\n",
      "Number of repeated rows for devices:  0\n"
     ]
    }
   ],
   "source": [
    "# We can see that all DataFrames have no duplicates\n",
    "print('Number of repeated rows for telematics: ', df_telematics[df_telematics.duplicated() == True].shape[0])\n",
    "print('Number of repeated rows for tenants: ', df_tenants[df_tenants.duplicated() == True].shape[0])\n",
    "print('Number of repeated rows for vehicles: ', df_vehicles[df_vehicles.duplicated() == True].shape[0])\n",
    "print('Number of repeated rows for devices: ', df_devices[df_devices.duplicated() == True].shape[0])"
   ]
  },
  {
   "cell_type": "code",
   "execution_count": 11,
   "metadata": {},
   "outputs": [
    {
     "name": "stdout",
     "output_type": "stream",
     "text": [
      "Rows with null values in telematics:  0\n",
      "Rows with null values in tenants:  0\n",
      "Rows with null values in vehicles:  35\n",
      "Rows with null values in devices:  0\n",
      "\n",
      "Rows with empty values in telematics:  0\n",
      "Rows with empty values in tenants:  0\n",
      "Rows with empty values in vehicles:  20\n",
      "Rows with empty values in devices:  0\n"
     ]
    }
   ],
   "source": [
    "# The last thing we are going to do before analyzing each DataFrame, is to check if any of this DataFrames has either\n",
    "# null or empty ('') values for each of its rows.\n",
    "\n",
    "# We'll start with the null values\n",
    "import numpy as np\n",
    "print('Rows with null values in telematics: ', df_telematics[df_telematics.isna().any(axis=1)].shape[0])\n",
    "print('Rows with null values in tenants: ', df_tenants[df_tenants.isna().any(axis=1)].shape[0])\n",
    "print('Rows with null values in vehicles: ', df_vehicles[df_vehicles.isna().any(axis=1)].shape[0])\n",
    "print('Rows with null values in devices: ', df_devices[df_devices.isna().any(axis=1)].shape[0])\n",
    "print('')\n",
    "\n",
    "# Now the empty values ('')\n",
    "print('Rows with empty values in telematics: ', len(np.where(df_telematics.applymap(lambda x: x == ''))[0]))\n",
    "print('Rows with empty values in tenants: ', len(np.where(df_tenants.applymap(lambda x: x == ''))[0]))\n",
    "print('Rows with empty values in vehicles: ', len(np.where(df_vehicles.applymap(lambda x: x == ''))[0]))\n",
    "print('Rows with empty values in devices: ', len(np.where(df_devices.applymap(lambda x: x == ''))[0]))\n"
   ]
  },
  {
   "cell_type": "code",
   "execution_count": 12,
   "metadata": {},
   "outputs": [
    {
     "name": "stdout",
     "output_type": "stream",
     "text": [
      "                         _id     plate user_id device_id display_brand display_model\n",
      "42  5f0d1a7cd449707729607d3f  2G 8643W    None      None        NISSAN         VERSA\n",
      "68  5f0d1b3ffddc6d77d4e696c6   7SG 952    None      None    VOLKSWAGEN         VENTO\n",
      "69  5f0d1b41fddc6d77d4e696c8   NP-7703    None      None        NISSAN         VERSA\n",
      "70  5f0d1b42fddc6d77d4e696ca   VZR-082    None      None           KIA           RIO\n",
      "71  5f0d1b44fddc6d77d4e696cc   J40 3CW    None      None          SEAT         IBIZA\n",
      "                          _id     plate                   user_id                 device_id display_brand display_model\n",
      "9    5f0cd1d92ffa7a66eebf2464   MSX 869  5f0cc719c1b2b360ec398d57  5e7a40e323711d7a967d8096    Volkswagen              \n",
      "22   5f0d1724a58a4f744ad80a9a   6PQ J61  5f0d1724a58a4f744ad80a99  5e7a40e223711d7a967d801d                            \n",
      "56   5f0d1a95d449707729607d63  JYC-3647  5f0d1a95d449707729607d62  5e7a40e323711d7a967d8088                            \n",
      "97   5f57cc80e299e236d67eacc7   05O•328  5f5a51d216715308418f96d5  5e7a40e323711d7a967d80d9           Kia              \n",
      "100  5f57d03ce299e236d67eacda   4DD 584  5f5a526516715308418f96dc  5e7a40e523711d7a967d8177       Renault              \n",
      "101  5f57dfbddc1f2e0e7781923d     59YR1  5f5a54b316715308418f96e9  5e7a40e223711d7a967d8019          SEAT              \n",
      "102  5f57e03cdc1f2e0e77819240   MKD 504  5f5a54f416715308418f96ec  5e7a40e323711d7a967d8095    Volkswagen              \n",
      "105  5f57e1c0dc1f2e0e7781924b   443 NBT  5f5a596116715308418f9708  5e7a40e523711d7a967d8194          SEAT              \n",
      "107  5f5811a6dc1f2e0e77819350   1-87314  5f58116ddc1f2e0e7781934e  5e7a40e423711d7a967d8137    Volkswagen              \n",
      "108  5f58124fdc1f2e0e77819354   YWP L52  5f58121bdc1f2e0e77819351  5e7a40e323711d7a967d8085       Renault              \n",
      "116  5f58ef9216715308418f90c0     682P1  5f58eae716715308418f9092  5e7a40e523711d7a967d818f          SEAT              \n",
      "119  5f58f1c816715308418f90ce   109-CCS  5f58ebcb16715308418f9098  5e7a40e423711d7a967d8139          SEAT              \n",
      "383  6137eca6f832760bc778848e   BMB-512  6137eca5f832760bc778848d  5e7a40e323711d7a967d80b9                            \n"
     ]
    }
   ],
   "source": [
    "# We are going to study a bit more de Vehicles DataFrame, to see if it's necessary to either drop some rows, or if we leave them unchanged\n",
    "print(df_vehicles[df_vehicles.isna().any(axis=1)].head())\n",
    "\n",
    "# In this case, we see that both user_id and device_id columns have None values. \n",
    "# However, because the user_id in order to join the data with telematics, we'll remove these rows.\n",
    "df_vehicles = df_vehicles.dropna().reset_index(drop=True)\n",
    "\n",
    "# Now we check the empty values\n",
    "print(df_vehicles.loc[(df_vehicles.applymap(lambda x: x == '')==True).any(axis=1)])\n",
    "\n",
    "# This time, because the vehicle brand and model aren't priority (Compared to ids), we'll keep these rows, because\n",
    "# they still give relevant information. This cells were renamed \"NO BRAND\" and \"NO MODEL\"\n",
    "df_vehicles['display_brand'] = df_vehicles['display_brand'].replace({'':'NO BRAND'})\n",
    "df_vehicles['display_model'] = df_vehicles['display_model'].replace({'':'NO MODEL'})"
   ]
  },
  {
   "cell_type": "markdown",
   "metadata": {},
   "source": [
    "We'll see now the Telematics DataFrame, a quick description of it's numerical values. We'll do a more complete analyzis after reviewing all the other DataFrames."
   ]
  },
  {
   "cell_type": "code",
   "execution_count": 13,
   "metadata": {},
   "outputs": [
    {
     "data": {
      "text/html": [
       "<div>\n",
       "<style scoped>\n",
       "    .dataframe tbody tr th:only-of-type {\n",
       "        vertical-align: middle;\n",
       "    }\n",
       "\n",
       "    .dataframe tbody tr th {\n",
       "        vertical-align: top;\n",
       "    }\n",
       "\n",
       "    .dataframe thead th {\n",
       "        text-align: right;\n",
       "    }\n",
       "</style>\n",
       "<table border=\"1\" class=\"dataframe\">\n",
       "  <thead>\n",
       "    <tr style=\"text-align: right;\">\n",
       "      <th></th>\n",
       "      <th>distance (km)</th>\n",
       "      <th>hard_accels_q</th>\n",
       "      <th>hard_breaks_q</th>\n",
       "      <th>max_speed_km_h</th>\n",
       "      <th>avg_speed</th>\n",
       "      <th>n_trips</th>\n",
       "    </tr>\n",
       "  </thead>\n",
       "  <tbody>\n",
       "    <tr>\n",
       "      <th>count</th>\n",
       "      <td>260.000000</td>\n",
       "      <td>260.000000</td>\n",
       "      <td>260.000000</td>\n",
       "      <td>260.000000</td>\n",
       "      <td>260.000000</td>\n",
       "      <td>260.000000</td>\n",
       "    </tr>\n",
       "    <tr>\n",
       "      <th>mean</th>\n",
       "      <td>361.119538</td>\n",
       "      <td>476.376923</td>\n",
       "      <td>30.538462</td>\n",
       "      <td>76.507692</td>\n",
       "      <td>25.139231</td>\n",
       "      <td>90.669231</td>\n",
       "    </tr>\n",
       "    <tr>\n",
       "      <th>std</th>\n",
       "      <td>459.685745</td>\n",
       "      <td>515.472842</td>\n",
       "      <td>55.965606</td>\n",
       "      <td>57.663281</td>\n",
       "      <td>20.089581</td>\n",
       "      <td>109.576573</td>\n",
       "    </tr>\n",
       "    <tr>\n",
       "      <th>min</th>\n",
       "      <td>0.000000</td>\n",
       "      <td>0.000000</td>\n",
       "      <td>0.000000</td>\n",
       "      <td>0.000000</td>\n",
       "      <td>0.000000</td>\n",
       "      <td>0.000000</td>\n",
       "    </tr>\n",
       "    <tr>\n",
       "      <th>25%</th>\n",
       "      <td>0.000000</td>\n",
       "      <td>0.000000</td>\n",
       "      <td>0.000000</td>\n",
       "      <td>0.000000</td>\n",
       "      <td>0.000000</td>\n",
       "      <td>0.000000</td>\n",
       "    </tr>\n",
       "    <tr>\n",
       "      <th>50%</th>\n",
       "      <td>266.190000</td>\n",
       "      <td>400.000000</td>\n",
       "      <td>9.500000</td>\n",
       "      <td>104.000000</td>\n",
       "      <td>29.340000</td>\n",
       "      <td>53.500000</td>\n",
       "    </tr>\n",
       "    <tr>\n",
       "      <th>75%</th>\n",
       "      <td>518.252500</td>\n",
       "      <td>760.500000</td>\n",
       "      <td>38.250000</td>\n",
       "      <td>122.000000</td>\n",
       "      <td>39.705000</td>\n",
       "      <td>115.000000</td>\n",
       "    </tr>\n",
       "    <tr>\n",
       "      <th>max</th>\n",
       "      <td>2709.930000</td>\n",
       "      <td>2887.000000</td>\n",
       "      <td>373.000000</td>\n",
       "      <td>176.000000</td>\n",
       "      <td>70.010000</td>\n",
       "      <td>489.000000</td>\n",
       "    </tr>\n",
       "  </tbody>\n",
       "</table>\n",
       "</div>"
      ],
      "text/plain": [
       "       distance (km)  hard_accels_q  hard_breaks_q  max_speed_km_h   avg_speed     n_trips\n",
       "count     260.000000     260.000000     260.000000      260.000000  260.000000  260.000000\n",
       "mean      361.119538     476.376923      30.538462       76.507692   25.139231   90.669231\n",
       "std       459.685745     515.472842      55.965606       57.663281   20.089581  109.576573\n",
       "min         0.000000       0.000000       0.000000        0.000000    0.000000    0.000000\n",
       "25%         0.000000       0.000000       0.000000        0.000000    0.000000    0.000000\n",
       "50%       266.190000     400.000000       9.500000      104.000000   29.340000   53.500000\n",
       "75%       518.252500     760.500000      38.250000      122.000000   39.705000  115.000000\n",
       "max      2709.930000    2887.000000     373.000000      176.000000   70.010000  489.000000"
      ]
     },
     "execution_count": 13,
     "metadata": {},
     "output_type": "execute_result"
    }
   ],
   "source": [
    "df_telematics.describe()"
   ]
  },
  {
   "cell_type": "markdown",
   "metadata": {},
   "source": [
    "We notice that there are some users whose distance is zero. In these cases, it should be checked if the user didn't use the vehicle at all, or if there's a problem with the device."
   ]
  },
  {
   "cell_type": "markdown",
   "metadata": {},
   "source": [
    "# Tenants"
   ]
  },
  {
   "cell_type": "markdown",
   "metadata": {},
   "source": [
    "We'll start the analysis of each individual DataFrame before crossing the data, to see what can we find for each DataFrame.\n",
    "\n",
    "First, we'll see if there are values that repeat for each column, in particular for company and country columns."
   ]
  },
  {
   "cell_type": "code",
   "execution_count": 14,
   "metadata": {},
   "outputs": [
    {
     "name": "stdout",
     "output_type": "stream",
     "text": [
      "There are no duplicated values for company column\n"
     ]
    }
   ],
   "source": [
    "# Company\n",
    "if len(df_tenants['company']) == len(df_tenants['company'].unique()):\n",
    "    print('There are no duplicated values for company column')\n",
    "else:\n",
    "    print(df_tenants['company'].value_counts())"
   ]
  },
  {
   "cell_type": "code",
   "execution_count": 15,
   "metadata": {},
   "outputs": [
    {
     "name": "stdout",
     "output_type": "stream",
     "text": [
      "CAN    23\n",
      "US     22\n",
      "Name: country, dtype: int64\n"
     ]
    }
   ],
   "source": [
    "# Country\n",
    "if len(df_tenants['country']) == len(df_tenants['country'].unique()):\n",
    "    print('There are no duplicated values for country column')\n",
    "else: \n",
    "    print(df_tenants['country'].value_counts())"
   ]
  },
  {
   "cell_type": "code",
   "execution_count": 16,
   "metadata": {},
   "outputs": [
    {
     "name": "stdout",
     "output_type": "stream",
     "text": [
      "There are no duplicated values for the id column\n"
     ]
    }
   ],
   "source": [
    "# _id\n",
    "if len(df_tenants['_id']) == len(df_tenants['_id'].unique()):\n",
    "    print('There are no duplicated values for the id column')\n",
    "else: \n",
    "    print(df_tenants['_id'].value_counts())"
   ]
  },
  {
   "cell_type": "markdown",
   "metadata": {},
   "source": [
    "With this information, we can plot the distribution of the Fleets per Country as follows."
   ]
  },
  {
   "cell_type": "code",
   "execution_count": 17,
   "metadata": {},
   "outputs": [
    {
     "data": {
      "image/png": "[encoded data removed]",
      "text/plain": [
       "<Figure size 432x288 with 1 Axes>"
      ]
     },
     "metadata": {},
     "output_type": "display_data"
    }
   ],
   "source": [
    "import matplotlib.pyplot as plt\n",
    "\n",
    "def valor_absoluto(val):\n",
    "    a  = size[np.abs(size - val/100.*sum(size)).argmin()]\n",
    "    return a\n",
    "\n",
    "countries = list(df_tenants['country'].unique())\n",
    "size = [df_tenants['country'].value_counts()[x] for x in countries]\n",
    " \n",
    "centro_donut = plt.Circle( (0,0), 0.4, color='white')\n",
    "plt.pie(size, \n",
    "        labels=countries, \n",
    "        wedgeprops = {'linewidth': 0, 'edgecolor' : 'white'}, \n",
    "        autopct=valor_absoluto, \n",
    "        startangle = 90)\n",
    "p = plt.gcf()\n",
    "p.gca().add_artist(centro_donut)\n",
    "plt.title('Fleet Distribution by Country')\n",
    "plt.show()"
   ]
  },
  {
   "cell_type": "markdown",
   "metadata": {},
   "source": [
    "# Devices"
   ]
  },
  {
   "cell_type": "markdown",
   "metadata": {},
   "source": [
    "Doing a process similar to the Vehicles one, we first see the Dataset on its own. For this, we'll check the status of the devices first."
   ]
  },
  {
   "cell_type": "code",
   "execution_count": 18,
   "metadata": {},
   "outputs": [
    {
     "data": {
      "text/plain": [
       "active        331\n",
       "inactive      109\n",
       "pre-active     56\n",
       "Name: status, dtype: int64"
      ]
     },
     "execution_count": 18,
     "metadata": {},
     "output_type": "execute_result"
    }
   ],
   "source": [
    "df_devices['status'].value_counts()"
   ]
  },
  {
   "cell_type": "code",
   "execution_count": 19,
   "metadata": {},
   "outputs": [
    {
     "data": {
      "image/png": "[encoded data removed]",
      "text/plain": [
       "<Figure size 432x288 with 1 Axes>"
      ]
     },
     "metadata": {},
     "output_type": "display_data"
    }
   ],
   "source": [
    "device_status = list(df_devices['status'].unique())\n",
    "size = [df_devices['status'].value_counts()[x] for x in device_status]\n",
    " \n",
    "centro_donut = plt.Circle( (0,0), 0.4, color='white')\n",
    "plt.pie(size, \n",
    "        labels=device_status, \n",
    "        wedgeprops = {'linewidth': 0, 'edgecolor' : 'white'}, \n",
    "        autopct=valor_absoluto, \n",
    "        startangle = 90)\n",
    "p = plt.gcf()\n",
    "p.gca().add_artist(centro_donut)\n",
    "\n",
    "plt.title('Device Status Distribution')\n",
    "\n",
    "plt.show()"
   ]
  },
  {
   "cell_type": "code",
   "execution_count": 20,
   "metadata": {},
   "outputs": [
    {
     "data": {
      "text/plain": [
       "(array([1, 2, 3]), array([334,  69,   8], dtype=int64))"
      ]
     },
     "execution_count": 20,
     "metadata": {},
     "output_type": "execute_result"
    }
   ],
   "source": [
    "# We also study the IMEI values.\n",
    "count_list = [x for x in df_devices['imei'].value_counts()]\n",
    "values, counts = np.unique(count_list, return_counts=True)\n",
    "values, counts"
   ]
  },
  {
   "cell_type": "markdown",
   "metadata": {},
   "source": [
    "We notice that 8 IMEI values are repeated 3 times, and that 69 IMEI values are repeated twice. Usually, this number is unique per device, meaning that there may be an inconsistency with the data."
   ]
  },
  {
   "cell_type": "markdown",
   "metadata": {},
   "source": [
    "# Vehicles"
   ]
  },
  {
   "cell_type": "code",
   "execution_count": 21,
   "metadata": {},
   "outputs": [
    {
     "data": {
      "text/html": [
       "<div>\n",
       "<style scoped>\n",
       "    .dataframe tbody tr th:only-of-type {\n",
       "        vertical-align: middle;\n",
       "    }\n",
       "\n",
       "    .dataframe tbody tr th {\n",
       "        vertical-align: top;\n",
       "    }\n",
       "\n",
       "    .dataframe thead th {\n",
       "        text-align: right;\n",
       "    }\n",
       "</style>\n",
       "<table border=\"1\" class=\"dataframe\">\n",
       "  <thead>\n",
       "    <tr style=\"text-align: right;\">\n",
       "      <th></th>\n",
       "      <th>_id</th>\n",
       "      <th>plate</th>\n",
       "      <th>user_id</th>\n",
       "      <th>device_id</th>\n",
       "      <th>display_brand</th>\n",
       "      <th>display_model</th>\n",
       "    </tr>\n",
       "  </thead>\n",
       "  <tbody>\n",
       "    <tr>\n",
       "      <th>0</th>\n",
       "      <td>5d657e698a5f6942db9f3c11</td>\n",
       "      <td>ALU 527</td>\n",
       "      <td>5d657c938a5f6942db9f3c09</td>\n",
       "      <td>5880e24d00ad707e0eae9e77</td>\n",
       "      <td>Volkswagen</td>\n",
       "      <td>Beetle</td>\n",
       "    </tr>\n",
       "    <tr>\n",
       "      <th>1</th>\n",
       "      <td>5d9f26b5eaa32726e8431512</td>\n",
       "      <td>VQN 500</td>\n",
       "      <td>5d9f249eeaa32726e8431506</td>\n",
       "      <td>5b6b0f8eaeb12127dda51593</td>\n",
       "      <td>SEAT</td>\n",
       "      <td>IBIZA</td>\n",
       "    </tr>\n",
       "    <tr>\n",
       "      <th>2</th>\n",
       "      <td>5d9f26e6eaa32726e8431513</td>\n",
       "      <td>F13 2KV</td>\n",
       "      <td>5d9f2514eaa32726e8431509</td>\n",
       "      <td>5b6b0f90aeb12127dda515b9</td>\n",
       "      <td>Volkswagen</td>\n",
       "      <td>Polo</td>\n",
       "    </tr>\n",
       "    <tr>\n",
       "      <th>3</th>\n",
       "      <td>5d9f2710eaa32726e8431517</td>\n",
       "      <td>782GVC</td>\n",
       "      <td>5d9f25a1eaa32726e843150b</td>\n",
       "      <td>5b6b0f8eaeb12127dda5158a</td>\n",
       "      <td>Hyundai</td>\n",
       "      <td>Accent</td>\n",
       "    </tr>\n",
       "    <tr>\n",
       "      <th>4</th>\n",
       "      <td>5d9f273feaa32726e843151a</td>\n",
       "      <td>WVC-452</td>\n",
       "      <td>5d9f25f3eaa32726e843150d</td>\n",
       "      <td>5b6b0f8faeb12127dda515a9</td>\n",
       "      <td>Chevrolet</td>\n",
       "      <td>Spark</td>\n",
       "    </tr>\n",
       "  </tbody>\n",
       "</table>\n",
       "</div>"
      ],
      "text/plain": [
       "                        _id    plate                   user_id                 device_id display_brand display_model\n",
       "0  5d657e698a5f6942db9f3c11  ALU 527  5d657c938a5f6942db9f3c09  5880e24d00ad707e0eae9e77    Volkswagen        Beetle\n",
       "1  5d9f26b5eaa32726e8431512  VQN 500  5d9f249eeaa32726e8431506  5b6b0f8eaeb12127dda51593          SEAT         IBIZA\n",
       "2  5d9f26e6eaa32726e8431513  F13 2KV  5d9f2514eaa32726e8431509  5b6b0f90aeb12127dda515b9    Volkswagen          Polo\n",
       "3  5d9f2710eaa32726e8431517   782GVC  5d9f25a1eaa32726e843150b  5b6b0f8eaeb12127dda5158a       Hyundai        Accent\n",
       "4  5d9f273feaa32726e843151a  WVC-452  5d9f25f3eaa32726e843150d  5b6b0f8faeb12127dda515a9     Chevrolet         Spark"
      ]
     },
     "execution_count": 21,
     "metadata": {},
     "output_type": "execute_result"
    }
   ],
   "source": [
    "df_vehicles.head()"
   ]
  },
  {
   "cell_type": "markdown",
   "metadata": {},
   "source": [
    "The most intresting columns to analyze in this case are display_brand and display_model."
   ]
  },
  {
   "cell_type": "code",
   "execution_count": 22,
   "metadata": {},
   "outputs": [
    {
     "data": {
      "text/plain": [
       "NISSAN    115\n",
       "Nissan     56\n",
       "ISUZU      44\n",
       "TOYOTA     43\n",
       "KIA        18\n",
       "Name: display_brand, dtype: int64"
      ]
     },
     "execution_count": 22,
     "metadata": {},
     "output_type": "execute_result"
    }
   ],
   "source": [
    "df_vehicles['display_brand'].value_counts().head()"
   ]
  },
  {
   "cell_type": "code",
   "execution_count": 23,
   "metadata": {},
   "outputs": [
    {
     "data": {
      "text/plain": [
       "NP 300          81\n",
       "ELF 300         39\n",
       "VERSA DRIVE     25\n",
       "VENTO           20\n",
       "NISSAN TSURU    18\n",
       "Name: display_model, dtype: int64"
      ]
     },
     "execution_count": 23,
     "metadata": {},
     "output_type": "execute_result"
    }
   ],
   "source": [
    "df_vehicles['display_model'].value_counts().head()"
   ]
  },
  {
   "cell_type": "markdown",
   "metadata": {},
   "source": [
    "We notice that, in both cases, there are brands/model that were written in different ways, but they are the same brand/model. We'll transform both columns with .upper(), in order to get both brands and model in caps."
   ]
  },
  {
   "cell_type": "code",
   "execution_count": 24,
   "metadata": {},
   "outputs": [],
   "source": [
    "df_vehicles['display_brand'] = [x.upper() for x in df_vehicles['display_brand']]\n",
    "df_vehicles['display_model'] = [x.upper() for x in df_vehicles['display_model']]"
   ]
  },
  {
   "cell_type": "code",
   "execution_count": 25,
   "metadata": {},
   "outputs": [
    {
     "data": {
      "text/plain": [
       "NISSAN           171\n",
       "TOYOTA            51\n",
       "ISUZU             44\n",
       "KIA               27\n",
       "VOLKSWAGEN        26\n",
       "SEAT              17\n",
       "HYUNDAI           17\n",
       "CHEVROLET         15\n",
       "FORD               6\n",
       "VW                 4\n",
       "INTERNATIONAL      4\n",
       "RENAULT            4\n",
       "NO BRAND           3\n",
       "N/A                1\n",
       "GMC                1\n",
       "Name: display_brand, dtype: int64"
      ]
     },
     "execution_count": 25,
     "metadata": {},
     "output_type": "execute_result"
    }
   ],
   "source": [
    "df_vehicles['display_brand'].value_counts()"
   ]
  },
  {
   "cell_type": "markdown",
   "metadata": {},
   "source": [
    "Eventhough in this case, there is a N/A, it will be added to a new brand named \"OTHERS\", where all the brands with less than 10 Vehicles will be added for the plots we'll do next."
   ]
  },
  {
   "cell_type": "code",
   "execution_count": 26,
   "metadata": {},
   "outputs": [
    {
     "data": {
      "image/png": "[encoded data removed]",
      "text/plain": [
       "<Figure size 432x288 with 1 Axes>"
      ]
     },
     "metadata": {
      "needs_background": "light"
     },
     "output_type": "display_data"
    }
   ],
   "source": [
    "from collections import OrderedDict\n",
    "brand = list(df_vehicles['display_brand'].unique())\n",
    "size = [df_vehicles['display_brand'].value_counts()[x] for x in brand]\n",
    "\n",
    "# Juntamos los valores chicos\n",
    "small_values = 0\n",
    "positions_to_remove = []\n",
    "for x in range(len(size)):\n",
    "    if size[x] < 10:\n",
    "        small_values = small_values + size[x]\n",
    "        positions_to_remove.append(x)\n",
    "    else:\n",
    "        pass\n",
    "\n",
    "brand = [x for x in brand if brand.index(x) not in positions_to_remove]\n",
    "size = [x for x in size if size.index(x) not in positions_to_remove]\n",
    "brand.append('OTHERS')\n",
    "size.append(small_values)\n",
    "\n",
    "new_dict = {}\n",
    "for x in range(len(brand)):\n",
    "    new_dict[size[x]] = brand[x]\n",
    "\n",
    "new_dict = OrderedDict(sorted(new_dict.items(), reverse=False))\n",
    "size = list(new_dict.keys())\n",
    "brand = list(new_dict.values())\n",
    " \n",
    "y_pos = np.arange(len(brand))\n",
    "plt.barh(y_pos, size)\n",
    "plt.yticks(y_pos, brand)\n",
    "\n",
    "plt.title('Brand Distribution by Quantity of Vehicles')\n",
    "plt.xlabel(\"Quantity of Vehicles\")\n",
    "plt.ylabel(\"Vehicle Brand\")\n",
    " \n",
    "plt.show()"
   ]
  },
  {
   "cell_type": "markdown",
   "metadata": {},
   "source": [
    "In the case of the vehicle models, we realize that there are cases in which the name differ only by a blank space. To solve this, we use a dictionary for each model, we keep it's name, name without spaces, and quantity of appearances. After that, in case that there are two values with the same name, we keep the one with the highest number of appearances."
   ]
  },
  {
   "cell_type": "code",
   "execution_count": 27,
   "metadata": {},
   "outputs": [
    {
     "data": {
      "text/plain": [
       "{'BEETLE': {'BEETLE': 1},\n",
       " 'IBIZA': {'IBIZA': 10},\n",
       " 'POLO': {'POLO': 1},\n",
       " 'ACCENT': {'ACCENT': 1},\n",
       " 'SPARK': {'SPARK': 1},\n",
       " 'JETTA': {'JETTA': 1},\n",
       " 'TUCSON': {'TUCSON': 1},\n",
       " 'LEON': {'LEON': 1},\n",
       " 'NOMODEL': {'NO MODEL': 13},\n",
       " 'RIO': {'RIO': 25},\n",
       " 'PRIUS': {'PRIUS ': 18, 'PRIUS': 13},\n",
       " 'STEPWAY': {'STEPWAY': 2}}"
      ]
     },
     "execution_count": 27,
     "metadata": {},
     "output_type": "execute_result"
    }
   ],
   "source": [
    "model_dict = {}\n",
    "for model in df_vehicles['display_model']:\n",
    "    no_space_model = model.replace(' ','')\n",
    "    if no_space_model in model_dict:\n",
    "        try:\n",
    "            if model_dict[no_space_model][model]:\n",
    "                model_dict[no_space_model][model] += 1\n",
    "        except:\n",
    "            model_dict[no_space_model][model] = model\n",
    "            model_dict[no_space_model][model] = 1\n",
    "    else:\n",
    "        model_dict[no_space_model] = {}\n",
    "        model_dict[no_space_model][model] = model\n",
    "        model_dict[no_space_model][model] = 1\n",
    "        \n",
    "{k: model_dict[k] for k in list(model_dict)[:12]}"
   ]
  },
  {
   "cell_type": "markdown",
   "metadata": {},
   "source": [
    "Now, we can transform the model column to values without blank spaces. We'll replace the models with more than one possible name with the name without blank spaces, while the other models will keep their original name."
   ]
  },
  {
   "cell_type": "code",
   "execution_count": 28,
   "metadata": {},
   "outputs": [],
   "source": [
    "new_dict = {}\n",
    "\n",
    "for model in model_dict:\n",
    "    if len(model_dict[model]) > 1:\n",
    "        new_dict[model] = sum(list(model_dict[model].values()))\n",
    "    else:\n",
    "        new_dict[model] = list(model_dict[model].values())[0]"
   ]
  },
  {
   "cell_type": "markdown",
   "metadata": {},
   "source": [
    "In a similar way, if the appearances of a brand is less than 12, we'll add them in a new category called \"OTHERS\"."
   ]
  },
  {
   "cell_type": "code",
   "execution_count": 29,
   "metadata": {},
   "outputs": [],
   "source": [
    "small_values = 0\n",
    "models_to_delete = []\n",
    "for model in new_dict:\n",
    "    if new_dict[model] < 12:\n",
    "        small_values = small_values + new_dict[model]\n",
    "        models_to_delete.append(model)\n",
    "    else:\n",
    "        pass\n",
    "    \n",
    "for model in models_to_delete:\n",
    "    del new_dict[model]"
   ]
  },
  {
   "cell_type": "code",
   "execution_count": 30,
   "metadata": {},
   "outputs": [
    {
     "data": {
      "image/png": "[encoded data removed]",
      "text/plain": [
       "<Figure size 432x288 with 1 Axes>"
      ]
     },
     "metadata": {
      "needs_background": "light"
     },
     "output_type": "display_data"
    }
   ],
   "source": [
    "new_dict['OTHERS'] = small_values\n",
    "new_dict = {y:x for x,y in new_dict.items()}\n",
    "new_dict = OrderedDict(sorted(new_dict.items(), reverse=False))\n",
    "size = list(new_dict.keys())\n",
    "model = list(new_dict.values())\n",
    " \n",
    "y_pos = np.arange(len(model))\n",
    "plt.barh(y_pos, size)\n",
    "plt.yticks(y_pos, model)\n",
    "\n",
    "plt.title('Vehicle Model Distribution by Quantity')\n",
    "plt.xlabel(\"Quantity of Vehicles\")\n",
    "plt.ylabel(\"Vehicle Model\")\n",
    " \n",
    "plt.show()"
   ]
  },
  {
   "cell_type": "markdown",
   "metadata": {},
   "source": [
    "# Telematics"
   ]
  },
  {
   "cell_type": "markdown",
   "metadata": {},
   "source": [
    "We'll start by viewing the data of users whose driven distance is zero. As we mentioned before, it mean that the user didn't drive in this period, but it may also mean that the device isn't registering the data. We expect that for user whose driven distance is zero, that all other key registers such as avg_speed are also zero."
   ]
  },
  {
   "cell_type": "code",
   "execution_count": 31,
   "metadata": {},
   "outputs": [
    {
     "name": "stdout",
     "output_type": "stream",
     "text": [
      "                      user_id  distance (km)  hard_accels_q  hard_breaks_q  max_speed_km_h  avg_speed  n_trips          user_name\n",
      "2    5d9f2514eaa32726e8431509            0.0            0.0            0.0             0.0        0.0      0.0   Kimberly Edwards\n",
      "5    5f09b37bd0cf38059d590912            0.0            0.0            0.0             0.0        0.0      0.0      Jeremy Joseph\n",
      "10   5f0d15fb85f956737dc80f4d            0.0            0.0            0.0             0.0        0.0      0.0      Jordan Oliver\n",
      "13   5f0d165a3eff27739fba9609            0.0            0.0            0.0             2.0        2.0      4.0    Samuel Williams\n",
      "14   5f0d168db55cd673b02216a6            0.0            0.0            0.0             0.0        0.0      0.0  Jennifer Gonzalez\n",
      "..                        ...            ...            ...            ...             ...        ...      ...                ...\n",
      "246  612d5b656d960b79743ae200            0.0            0.0            0.0             0.0        0.0      0.0  Nathaniel Spencer\n",
      "247  612d5b676d960b79743ae202            0.0            0.0            0.0             0.0        0.0      0.0        Ryan Brooks\n",
      "248  612d5b686d960b79743ae204            0.0            0.0            0.0             0.0        0.0      0.0     Patricia Scott\n",
      "249  612d5b6a6d960b79743ae206            0.0            0.0            0.0             0.0        0.0      0.0    Evan Thomas DVM\n",
      "256  6137ecabf832760bc7788493            0.0            0.0            0.0             0.0        0.0      0.0  Elizabeth Gilbert\n",
      "\n",
      "[85 rows x 8 columns]\n"
     ]
    }
   ],
   "source": [
    "print(df_telematics[df_telematics['distance (km)'] == 0])"
   ]
  },
  {
   "cell_type": "code",
   "execution_count": 32,
   "metadata": {},
   "outputs": [
    {
     "name": "stdout",
     "output_type": "stream",
     "text": [
      "hard_accels_q:  0\n",
      "hard_breaks_q:  0\n",
      "max_speed_km_h:  1\n",
      "avg_speed:  1\n",
      "n_trips:  1\n"
     ]
    }
   ],
   "source": [
    "print('hard_accels_q: ', (df_telematics[df_telematics['distance (km)'] == 0]['hard_accels_q'] != 0).sum())\n",
    "print('hard_breaks_q: ', (df_telematics[df_telematics['distance (km)'] == 0]['hard_breaks_q'] != 0).sum())\n",
    "print('max_speed_km_h: ', (df_telematics[df_telematics['distance (km)'] == 0]['max_speed_km_h'] != 0).sum())\n",
    "print('avg_speed: ', (df_telematics[df_telematics['distance (km)'] == 0]['avg_speed'] != 0).sum())\n",
    "print('n_trips: ', (df_telematics[df_telematics['distance (km)'] == 0]['n_trips'] != 0).sum())"
   ]
  },
  {
   "cell_type": "markdown",
   "metadata": {},
   "source": [
    "We notice that there's a particular user that registers data in max_speed, avg_speed, and number of trips, eventhough his travelled distance is zero. This data isn't consistent, so we recommend that this device is fixed if possible.\n",
    "It's also recommended that all the zero cases are studied, because it's strange that almost a third of the total users didn't travel at all."
   ]
  },
  {
   "cell_type": "markdown",
   "metadata": {},
   "source": [
    "For the data, we are going to make an histogram for each of the distributions. We are going to remove the data were the travelled distance is zero to avoid any distortion in the plots."
   ]
  },
  {
   "cell_type": "code",
   "execution_count": 33,
   "metadata": {},
   "outputs": [],
   "source": [
    "df_telematics_non_zero = df_telematics[df_telematics['distance (km)'] > 0]"
   ]
  },
  {
   "cell_type": "code",
   "execution_count": 34,
   "metadata": {},
   "outputs": [
    {
     "data": {
      "image/png": "[encoded data removed]",
      "text/plain": [
       "<Figure size 432x288 with 1 Axes>"
      ]
     },
     "metadata": {
      "needs_background": "light"
     },
     "output_type": "display_data"
    }
   ],
   "source": [
    "# Distance (km)\n",
    "plt.hist(df_telematics_non_zero['distance (km)'], bins=50)\n",
    "plt.gca().set(title='Distance Travelled Histogram (Km)', xlabel='Distance Travelled', ylabel='Number of Users');"
   ]
  },
  {
   "cell_type": "code",
   "execution_count": 35,
   "metadata": {},
   "outputs": [
    {
     "data": {
      "image/png": "[encoded data removed]",
      "text/plain": [
       "<Figure size 432x288 with 1 Axes>"
      ]
     },
     "metadata": {
      "needs_background": "light"
     },
     "output_type": "display_data"
    }
   ],
   "source": [
    "# hard_accels_q\n",
    "plt.hist(df_telematics_non_zero['hard_accels_q'], bins=50)\n",
    "plt.gca().set(title='Hard Accels Histogram', xlabel='Number of Hard Accels', ylabel='Number of Users');"
   ]
  },
  {
   "cell_type": "code",
   "execution_count": 36,
   "metadata": {},
   "outputs": [
    {
     "data": {
      "image/png": "[encoded data removed]",
      "text/plain": [
       "<Figure size 432x288 with 1 Axes>"
      ]
     },
     "metadata": {
      "needs_background": "light"
     },
     "output_type": "display_data"
    }
   ],
   "source": [
    "# hard_breaks_q\n",
    "plt.hist(df_telematics_non_zero['hard_breaks_q'], bins=50)\n",
    "plt.gca().set(title='Hard Breaks Histogram', xlabel='Number of Hard Breaks', ylabel='Number of Users');"
   ]
  },
  {
   "cell_type": "code",
   "execution_count": 37,
   "metadata": {},
   "outputs": [
    {
     "data": {
      "image/png": "[encoded data removed]",
      "text/plain": [
       "<Figure size 432x288 with 1 Axes>"
      ]
     },
     "metadata": {
      "needs_background": "light"
     },
     "output_type": "display_data"
    }
   ],
   "source": [
    "# max_speed_km_h\n",
    "plt.hist(df_telematics_non_zero['max_speed_km_h'], bins=50)\n",
    "plt.gca().set(title='Max Speed Histogram (Km/h)', xlabel='Max Speed', ylabel='Number of Users');"
   ]
  },
  {
   "cell_type": "code",
   "execution_count": 38,
   "metadata": {},
   "outputs": [
    {
     "data": {
      "image/png": "[encoded data removed]",
      "text/plain": [
       "<Figure size 432x288 with 1 Axes>"
      ]
     },
     "metadata": {
      "needs_background": "light"
     },
     "output_type": "display_data"
    }
   ],
   "source": [
    "# avg_speed\n",
    "plt.hist(df_telematics_non_zero['avg_speed'], bins=50)\n",
    "plt.gca().set(title='Average Speed Histogram', xlabel='Average Speed', ylabel='Number of Users');"
   ]
  },
  {
   "cell_type": "code",
   "execution_count": 39,
   "metadata": {},
   "outputs": [
    {
     "data": {
      "image/png": "[encoded data removed]",
      "text/plain": [
       "<Figure size 432x288 with 1 Axes>"
      ]
     },
     "metadata": {
      "needs_background": "light"
     },
     "output_type": "display_data"
    }
   ],
   "source": [
    "# n_trips\n",
    "plt.hist(df_telematics_non_zero['n_trips'], bins=50)\n",
    "plt.gca().set(title='Number of Trips Histogram', xlabel='Number of Trips', ylabel='Number of Users');"
   ]
  },
  {
   "cell_type": "markdown",
   "metadata": {},
   "source": [
    "# All Data"
   ]
  },
  {
   "cell_type": "code",
   "execution_count": 40,
   "metadata": {},
   "outputs": [],
   "source": [
    "# First, we merge the telematics and vehicles DataFrames by user_id\n",
    "df_vehicles['user_id'] = [str(x) for x in df_vehicles['user_id']]\n",
    "df = pd.merge(df_telematics, df_vehicles, on=['user_id'])\n",
    "# Devices\n",
    "df_devices_renamed = df_devices.rename(columns={'_id': 'device_id'})\n",
    "df = pd.merge(df, df_devices_renamed, on=['device_id'])\n",
    "# Tenants\n",
    "df_tenants_renamed = df_tenants.rename(columns={'_id': 'tenant_id'})\n",
    "df = pd.merge(df, df_tenants_renamed, on=['tenant_id'])"
   ]
  },
  {
   "cell_type": "code",
   "execution_count": 41,
   "metadata": {},
   "outputs": [
    {
     "data": {
      "image/png": "[encoded data removed]",
      "text/plain": [
       "<Figure size 432x288 with 1 Axes>"
      ]
     },
     "metadata": {
      "needs_background": "light"
     },
     "output_type": "display_data"
    }
   ],
   "source": [
    "# For the companies, we add all the companies with less than 10 appearances.\n",
    "company = list(df['company'].unique())\n",
    "values = [df['company'].value_counts()[x] for x in company]\n",
    "\n",
    "# We add the small values\n",
    "small_values = 0\n",
    "positions_to_remove = []\n",
    "for x in range(len(values)):\n",
    "    if values[x] < 6:\n",
    "        small_values = small_values + values[x]\n",
    "        positions_to_remove.append(x)\n",
    "    else:\n",
    "        pass\n",
    "\n",
    "company = [x for x in company if company.index(x) not in positions_to_remove]\n",
    "values = [x for x in values if values.index(x) not in positions_to_remove]\n",
    "company.append('OTHERS')\n",
    "values.append(small_values)\n",
    "\n",
    "new_dict = {}\n",
    "for x in range(len(company)):\n",
    "    new_dict[values[x]] = company[x]\n",
    "\n",
    "new_dict = OrderedDict(sorted(new_dict.items(), reverse=False))\n",
    "values = list(new_dict.keys())\n",
    "company = list(new_dict.values())\n",
    " \n",
    "y_pos = np.arange(len(company))\n",
    "plt.barh(y_pos, values)\n",
    "plt.yticks(y_pos, company)\n",
    "plt.title('Company Distribution by Quantity of Vehicles')\n",
    "plt.xlabel(\"Quantity of Vehicles\")\n",
    "# plt.ylabel(\"Name of the Company\")\n",
    " \n",
    "plt.show()"
   ]
  },
  {
   "cell_type": "markdown",
   "metadata": {},
   "source": [
    "Finally, we are going to view a heatmap of the average values for each numerical column in telematics by vehicle brand."
   ]
  },
  {
   "cell_type": "code",
   "execution_count": 42,
   "metadata": {},
   "outputs": [
    {
     "name": "stderr",
     "output_type": "stream",
     "text": [
      "<ipython-input-42-2646d3f3b136>:11: SettingWithCopyWarning: \n",
      "A value is trying to be set on a copy of a slice from a DataFrame\n",
      "\n",
      "See the caveats in the documentation: https://pandas.pydata.org/pandas-docs/stable/user_guide/indexing.html#returning-a-view-versus-a-copy\n",
      "  avg_df['avg_speed'][brand] = df[df['display_brand'] == brand]['avg_speed'].mean()\n",
      "<ipython-input-42-2646d3f3b136>:12: SettingWithCopyWarning: \n",
      "A value is trying to be set on a copy of a slice from a DataFrame\n",
      "\n",
      "See the caveats in the documentation: https://pandas.pydata.org/pandas-docs/stable/user_guide/indexing.html#returning-a-view-versus-a-copy\n",
      "  avg_df['quantity'][brand] = df['display_brand'].value_counts()[brand]\n"
     ]
    }
   ],
   "source": [
    "# We'll add avg_speed to the df alone, because adding the values doesn't make much sense.\n",
    "avg_df = df[['display_brand','distance (km)','hard_accels_q','hard_breaks_q','max_speed_km_h','n_trips']].groupby('display_brand').sum().sort_values('distance (km)', ascending=False).reset_index()\n",
    "\n",
    "avg_df = avg_df.set_index('display_brand')\n",
    "\n",
    "avg_df['avg_speed'] = 0\n",
    "avg_df['quantity'] = 0\n",
    "\n",
    "# We add the avg_speed and quantity values per brand\n",
    "for brand in avg_df.index:\n",
    "    avg_df['avg_speed'][brand] = df[df['display_brand'] == brand]['avg_speed'].mean()\n",
    "    avg_df['quantity'][brand] = df['display_brand'].value_counts()[brand]\n",
    "    \n",
    "# We now divide each of the following columns to obtain the average value per user.\n",
    "# We'll omit the avg_speed, because the values are alredy averaged\n",
    "avg_df['distance (km)'] = [x/y for x, y in zip(avg_df['distance (km)'], avg_df['quantity'])]\n",
    "avg_df['hard_accels_q'] = [x/y for x, y in zip(avg_df['hard_accels_q'], avg_df['quantity'])]\n",
    "avg_df['hard_breaks_q'] = [x/y for x, y in zip(avg_df['hard_breaks_q'], avg_df['quantity'])]\n",
    "avg_df['max_speed_km_h'] = [x/y for x, y in zip(avg_df['max_speed_km_h'], avg_df['quantity'])]\n",
    "avg_df['n_trips'] = [x/y for x, y in zip(avg_df['n_trips'], avg_df['quantity'])]\n",
    "\n",
    "# We round the decimal values\n",
    "avg_df = avg_df.round(2)\n",
    "\n",
    "# We rename the columns so they look better in the presentation\n",
    "avg_df = avg_df.reset_index()\n",
    "avg_df.rename(columns={'display_brand': 'Vehicle Brand', \n",
    "                       'distance (km)': 'Distance (Km)',\n",
    "                       'hard_accels_q': 'Quantity of Hard Accel.',\n",
    "                       'hard_breaks_q': 'Quantity of Hard Breaks',\n",
    "                       'max_speed_km_h': 'Max Speed (Km/h)',\n",
    "                       'n_trips': 'Number of Trips',\n",
    "                       'avg_speed': 'Average Speed',\n",
    "                       'quantity': 'Number of Vehicles'}, inplace=True)\n",
    "avg_df = avg_df.set_index('Vehicle Brand')"
   ]
  },
  {
   "cell_type": "code",
   "execution_count": 43,
   "metadata": {},
   "outputs": [
    {
     "data": {
      "text/html": [
       "<style  type=\"text/css\" >\n",
       "#T_5c4c8_row0_col0,#T_5c4c8_row8_col1{\n",
       "            background-color:  #64a9d3;\n",
       "            color:  #000000;\n",
       "        }#T_5c4c8_row0_col1,#T_5c4c8_row9_col0{\n",
       "            background-color:  #a1cbe2;\n",
       "            color:  #000000;\n",
       "        }#T_5c4c8_row0_col2{\n",
       "            background-color:  #82bbdb;\n",
       "            color:  #000000;\n",
       "        }#T_5c4c8_row0_col3,#T_5c4c8_row3_col3{\n",
       "            background-color:  #2a7ab9;\n",
       "            color:  #000000;\n",
       "        }#T_5c4c8_row0_col4,#T_5c4c8_row4_col2{\n",
       "            background-color:  #6fb0d7;\n",
       "            color:  #000000;\n",
       "        }#T_5c4c8_row0_col5{\n",
       "            background-color:  #4a98c9;\n",
       "            color:  #000000;\n",
       "        }#T_5c4c8_row0_col6,#T_5c4c8_row2_col4,#T_5c4c8_row8_col0,#T_5c4c8_row8_col3,#T_5c4c8_row8_col5,#T_5c4c8_row9_col1,#T_5c4c8_row9_col2{\n",
       "            background-color:  #08306b;\n",
       "            color:  #f1f1f1;\n",
       "        }#T_5c4c8_row1_col0{\n",
       "            background-color:  #5aa2cf;\n",
       "            color:  #000000;\n",
       "        }#T_5c4c8_row1_col1{\n",
       "            background-color:  #c8dcf0;\n",
       "            color:  #000000;\n",
       "        }#T_5c4c8_row1_col2{\n",
       "            background-color:  #77b5d9;\n",
       "            color:  #000000;\n",
       "        }#T_5c4c8_row1_col3{\n",
       "            background-color:  #58a1cf;\n",
       "            color:  #000000;\n",
       "        }#T_5c4c8_row1_col4{\n",
       "            background-color:  #d8e7f5;\n",
       "            color:  #000000;\n",
       "        }#T_5c4c8_row1_col5,#T_5c4c8_row4_col5,#T_5c4c8_row10_col5{\n",
       "            background-color:  #63a8d3;\n",
       "            color:  #000000;\n",
       "        }#T_5c4c8_row1_col6{\n",
       "            background-color:  #b3d3e8;\n",
       "            color:  #000000;\n",
       "        }#T_5c4c8_row2_col0,#T_5c4c8_row11_col4{\n",
       "            background-color:  #3a8ac2;\n",
       "            color:  #000000;\n",
       "        }#T_5c4c8_row2_col1{\n",
       "            background-color:  #68acd5;\n",
       "            color:  #000000;\n",
       "        }#T_5c4c8_row2_col2{\n",
       "            background-color:  #a5cde3;\n",
       "            color:  #000000;\n",
       "        }#T_5c4c8_row2_col3{\n",
       "            background-color:  #09529d;\n",
       "            color:  #f1f1f1;\n",
       "        }#T_5c4c8_row2_col5,#T_5c4c8_row7_col3{\n",
       "            background-color:  #1c6ab0;\n",
       "            color:  #f1f1f1;\n",
       "        }#T_5c4c8_row2_col6,#T_5c4c8_row3_col1{\n",
       "            background-color:  #c6dbef;\n",
       "            color:  #000000;\n",
       "        }#T_5c4c8_row3_col0{\n",
       "            background-color:  #125da6;\n",
       "            color:  #f1f1f1;\n",
       "        }#T_5c4c8_row3_col2{\n",
       "            background-color:  #ccdff1;\n",
       "            color:  #000000;\n",
       "        }#T_5c4c8_row3_col4{\n",
       "            background-color:  #d6e6f4;\n",
       "            color:  #000000;\n",
       "        }#T_5c4c8_row3_col5,#T_5c4c8_row6_col3{\n",
       "            background-color:  #2070b4;\n",
       "            color:  #f1f1f1;\n",
       "        }#T_5c4c8_row3_col6{\n",
       "            background-color:  #dae8f6;\n",
       "            color:  #000000;\n",
       "        }#T_5c4c8_row4_col0{\n",
       "            background-color:  #3d8dc4;\n",
       "            color:  #000000;\n",
       "        }#T_5c4c8_row4_col1{\n",
       "            background-color:  #cddff1;\n",
       "            color:  #000000;\n",
       "        }#T_5c4c8_row4_col3{\n",
       "            background-color:  #4f9bcb;\n",
       "            color:  #000000;\n",
       "        }#T_5c4c8_row4_col4{\n",
       "            background-color:  #d3e3f3;\n",
       "            color:  #000000;\n",
       "        }#T_5c4c8_row4_col6{\n",
       "            background-color:  #dce9f6;\n",
       "            color:  #000000;\n",
       "        }#T_5c4c8_row5_col0,#T_5c4c8_row7_col1{\n",
       "            background-color:  #3c8cc3;\n",
       "            color:  #000000;\n",
       "        }#T_5c4c8_row5_col1{\n",
       "            background-color:  #94c4df;\n",
       "            color:  #000000;\n",
       "        }#T_5c4c8_row5_col2{\n",
       "            background-color:  #69add5;\n",
       "            color:  #000000;\n",
       "        }#T_5c4c8_row5_col3{\n",
       "            background-color:  #2777b8;\n",
       "            color:  #000000;\n",
       "        }#T_5c4c8_row5_col4{\n",
       "            background-color:  #d1e2f3;\n",
       "            color:  #000000;\n",
       "        }#T_5c4c8_row5_col5{\n",
       "            background-color:  #4191c6;\n",
       "            color:  #000000;\n",
       "        }#T_5c4c8_row5_col6{\n",
       "            background-color:  #e6f0f9;\n",
       "            color:  #000000;\n",
       "        }#T_5c4c8_row6_col0{\n",
       "            background-color:  #4090c5;\n",
       "            color:  #000000;\n",
       "        }#T_5c4c8_row6_col1,#T_5c4c8_row6_col2{\n",
       "            background-color:  #9cc9e1;\n",
       "            color:  #000000;\n",
       "        }#T_5c4c8_row6_col4{\n",
       "            background-color:  #c9ddf0;\n",
       "            color:  #000000;\n",
       "        }#T_5c4c8_row6_col5{\n",
       "            background-color:  #2e7ebc;\n",
       "            color:  #000000;\n",
       "        }#T_5c4c8_row6_col6{\n",
       "            background-color:  #e8f1fa;\n",
       "            color:  #000000;\n",
       "        }#T_5c4c8_row7_col0{\n",
       "            background-color:  #3080bd;\n",
       "            color:  #000000;\n",
       "        }#T_5c4c8_row7_col2{\n",
       "            background-color:  #d5e5f4;\n",
       "            color:  #000000;\n",
       "        }#T_5c4c8_row7_col4{\n",
       "            background-color:  #3686c0;\n",
       "            color:  #000000;\n",
       "        }#T_5c4c8_row7_col5{\n",
       "            background-color:  #3585bf;\n",
       "            color:  #000000;\n",
       "        }#T_5c4c8_row7_col6{\n",
       "            background-color:  #ebf3fb;\n",
       "            color:  #000000;\n",
       "        }#T_5c4c8_row8_col2{\n",
       "            background-color:  #4d99ca;\n",
       "            color:  #000000;\n",
       "        }#T_5c4c8_row8_col4{\n",
       "            background-color:  #a6cee4;\n",
       "            color:  #000000;\n",
       "        }#T_5c4c8_row8_col6,#T_5c4c8_row10_col6,#T_5c4c8_row11_col6,#T_5c4c8_row13_col6{\n",
       "            background-color:  #f5fafe;\n",
       "            color:  #000000;\n",
       "        }#T_5c4c8_row9_col3{\n",
       "            background-color:  #3787c0;\n",
       "            color:  #000000;\n",
       "        }#T_5c4c8_row9_col4{\n",
       "            background-color:  #4e9acb;\n",
       "            color:  #000000;\n",
       "        }#T_5c4c8_row9_col5,#T_5c4c8_row10_col3{\n",
       "            background-color:  #6aaed6;\n",
       "            color:  #000000;\n",
       "        }#T_5c4c8_row9_col6{\n",
       "            background-color:  #f4f9fe;\n",
       "            color:  #000000;\n",
       "        }#T_5c4c8_row10_col0{\n",
       "            background-color:  #bfd8ed;\n",
       "            color:  #000000;\n",
       "        }#T_5c4c8_row10_col1{\n",
       "            background-color:  #d3e4f3;\n",
       "            color:  #000000;\n",
       "        }#T_5c4c8_row10_col2{\n",
       "            background-color:  #d9e7f5;\n",
       "            color:  #000000;\n",
       "        }#T_5c4c8_row10_col4{\n",
       "            background-color:  #ddeaf7;\n",
       "            color:  #000000;\n",
       "        }#T_5c4c8_row11_col0{\n",
       "            background-color:  #cfe1f2;\n",
       "            color:  #000000;\n",
       "        }#T_5c4c8_row11_col1{\n",
       "            background-color:  #8cc0dd;\n",
       "            color:  #000000;\n",
       "        }#T_5c4c8_row11_col2{\n",
       "            background-color:  #eff6fc;\n",
       "            color:  #000000;\n",
       "        }#T_5c4c8_row11_col3{\n",
       "            background-color:  #72b2d8;\n",
       "            color:  #000000;\n",
       "        }#T_5c4c8_row11_col5{\n",
       "            background-color:  #b7d4ea;\n",
       "            color:  #000000;\n",
       "        }#T_5c4c8_row12_col0,#T_5c4c8_row12_col1,#T_5c4c8_row12_col2,#T_5c4c8_row12_col3,#T_5c4c8_row12_col4,#T_5c4c8_row12_col5,#T_5c4c8_row12_col6,#T_5c4c8_row13_col0,#T_5c4c8_row13_col1,#T_5c4c8_row13_col2,#T_5c4c8_row13_col3,#T_5c4c8_row13_col4,#T_5c4c8_row13_col5{\n",
       "            background-color:  #f7fbff;\n",
       "            color:  #000000;\n",
       "        }</style><table id=\"T_5c4c8_\" ><thead>    <tr>        <th class=\"blank level0\" ></th>        <th class=\"col_heading level0 col0\" >Distance (Km)</th>        <th class=\"col_heading level0 col1\" >Quantity of Hard Accel.</th>        <th class=\"col_heading level0 col2\" >Quantity of Hard Breaks</th>        <th class=\"col_heading level0 col3\" >Max Speed (Km/h)</th>        <th class=\"col_heading level0 col4\" >Number of Trips</th>        <th class=\"col_heading level0 col5\" >Average Speed</th>        <th class=\"col_heading level0 col6\" >Number of Vehicles</th>    </tr>    <tr>        <th class=\"index_name level0\" >Vehicle Brand</th>        <th class=\"blank\" ></th>        <th class=\"blank\" ></th>        <th class=\"blank\" ></th>        <th class=\"blank\" ></th>        <th class=\"blank\" ></th>        <th class=\"blank\" ></th>        <th class=\"blank\" ></th>    </tr></thead><tbody>\n",
       "                <tr>\n",
       "                        <th id=\"T_5c4c8_level0_row0\" class=\"row_heading level0 row0\" >NISSAN</th>\n",
       "                        <td id=\"T_5c4c8_row0_col0\" class=\"data row0 col0\" >327.040000</td>\n",
       "                        <td id=\"T_5c4c8_row0_col1\" class=\"data row0 col1\" >483.430000</td>\n",
       "                        <td id=\"T_5c4c8_row0_col2\" class=\"data row0 col2\" >32.780000</td>\n",
       "                        <td id=\"T_5c4c8_row0_col3\" class=\"data row0 col3\" >78.740000</td>\n",
       "                        <td id=\"T_5c4c8_row0_col4\" class=\"data row0 col4\" >101.950000</td>\n",
       "                        <td id=\"T_5c4c8_row0_col5\" class=\"data row0 col5\" >24</td>\n",
       "                        <td id=\"T_5c4c8_row0_col6\" class=\"data row0 col6\" >117</td>\n",
       "            </tr>\n",
       "            <tr>\n",
       "                        <th id=\"T_5c4c8_level0_row1\" class=\"row_heading level0 row1\" >TOYOTA</th>\n",
       "                        <td id=\"T_5c4c8_row1_col0\" class=\"data row1 col0\" >345.110000</td>\n",
       "                        <td id=\"T_5c4c8_row1_col1\" class=\"data row1 col1\" >316.540000</td>\n",
       "                        <td id=\"T_5c4c8_row1_col2\" class=\"data row1 col2\" >34.730000</td>\n",
       "                        <td id=\"T_5c4c8_row1_col3\" class=\"data row1 col3\" >61.110000</td>\n",
       "                        <td id=\"T_5c4c8_row1_col4\" class=\"data row1 col4\" >33.110000</td>\n",
       "                        <td id=\"T_5c4c8_row1_col5\" class=\"data row1 col5\" >21</td>\n",
       "                        <td id=\"T_5c4c8_row1_col6\" class=\"data row1 col6\" >37</td>\n",
       "            </tr>\n",
       "            <tr>\n",
       "                        <th id=\"T_5c4c8_level0_row2\" class=\"row_heading level0 row2\" >ISUZU</th>\n",
       "                        <td id=\"T_5c4c8_row2_col0\" class=\"data row2 col0\" >409.700000</td>\n",
       "                        <td id=\"T_5c4c8_row2_col1\" class=\"data row2 col1\" >671.170000</td>\n",
       "                        <td id=\"T_5c4c8_row2_col2\" class=\"data row2 col2\" >26.130000</td>\n",
       "                        <td id=\"T_5c4c8_row2_col3\" class=\"data row2 col3\" >95.600000</td>\n",
       "                        <td id=\"T_5c4c8_row2_col4\" class=\"data row2 col4\" >208.330000</td>\n",
       "                        <td id=\"T_5c4c8_row2_col5\" class=\"data row2 col5\" >31</td>\n",
       "                        <td id=\"T_5c4c8_row2_col6\" class=\"data row2 col6\" >30</td>\n",
       "            </tr>\n",
       "            <tr>\n",
       "                        <th id=\"T_5c4c8_level0_row3\" class=\"row_heading level0 row3\" >KIA</th>\n",
       "                        <td id=\"T_5c4c8_row3_col0\" class=\"data row3 col0\" >518.300000</td>\n",
       "                        <td id=\"T_5c4c8_row3_col1\" class=\"data row3 col1\" >331.280000</td>\n",
       "                        <td id=\"T_5c4c8_row3_col2\" class=\"data row3 col2\" >16.220000</td>\n",
       "                        <td id=\"T_5c4c8_row3_col3\" class=\"data row3 col3\" >78.780000</td>\n",
       "                        <td id=\"T_5c4c8_row3_col4\" class=\"data row3 col4\" >34.670000</td>\n",
       "                        <td id=\"T_5c4c8_row3_col5\" class=\"data row3 col5\" >30</td>\n",
       "                        <td id=\"T_5c4c8_row3_col6\" class=\"data row3 col6\" >18</td>\n",
       "            </tr>\n",
       "            <tr>\n",
       "                        <th id=\"T_5c4c8_level0_row4\" class=\"row_heading level0 row4\" >VOLKSWAGEN</th>\n",
       "                        <td id=\"T_5c4c8_row4_col0\" class=\"data row4 col0\" >401.580000</td>\n",
       "                        <td id=\"T_5c4c8_row4_col1\" class=\"data row4 col1\" >286.240000</td>\n",
       "                        <td id=\"T_5c4c8_row4_col2\" class=\"data row4 col2\" >36.120000</td>\n",
       "                        <td id=\"T_5c4c8_row4_col3\" class=\"data row4 col3\" >64.060000</td>\n",
       "                        <td id=\"T_5c4c8_row4_col4\" class=\"data row4 col4\" >38.290000</td>\n",
       "                        <td id=\"T_5c4c8_row4_col5\" class=\"data row4 col5\" >21</td>\n",
       "                        <td id=\"T_5c4c8_row4_col6\" class=\"data row4 col6\" >17</td>\n",
       "            </tr>\n",
       "            <tr>\n",
       "                        <th id=\"T_5c4c8_level0_row5\" class=\"row_heading level0 row5\" >SEAT</th>\n",
       "                        <td id=\"T_5c4c8_row5_col0\" class=\"data row5 col0\" >404.840000</td>\n",
       "                        <td id=\"T_5c4c8_row5_col1\" class=\"data row5 col1\" >531.270000</td>\n",
       "                        <td id=\"T_5c4c8_row5_col2\" class=\"data row5 col2\" >37.360000</td>\n",
       "                        <td id=\"T_5c4c8_row5_col3\" class=\"data row5 col3\" >79.640000</td>\n",
       "                        <td id=\"T_5c4c8_row5_col4\" class=\"data row5 col4\" >40.640000</td>\n",
       "                        <td id=\"T_5c4c8_row5_col5\" class=\"data row5 col5\" >25</td>\n",
       "                        <td id=\"T_5c4c8_row5_col6\" class=\"data row5 col6\" >11</td>\n",
       "            </tr>\n",
       "            <tr>\n",
       "                        <th id=\"T_5c4c8_level0_row6\" class=\"row_heading level0 row6\" >CHEVROLET</th>\n",
       "                        <td id=\"T_5c4c8_row6_col0\" class=\"data row6 col0\" >394.010000</td>\n",
       "                        <td id=\"T_5c4c8_row6_col1\" class=\"data row6 col1\" >501.500000</td>\n",
       "                        <td id=\"T_5c4c8_row6_col2\" class=\"data row6 col2\" >28.000000</td>\n",
       "                        <td id=\"T_5c4c8_row6_col3\" class=\"data row6 col3\" >82.800000</td>\n",
       "                        <td id=\"T_5c4c8_row6_col4\" class=\"data row6 col4\" >49.400000</td>\n",
       "                        <td id=\"T_5c4c8_row6_col5\" class=\"data row6 col5\" >28</td>\n",
       "                        <td id=\"T_5c4c8_row6_col6\" class=\"data row6 col6\" >10</td>\n",
       "            </tr>\n",
       "            <tr>\n",
       "                        <th id=\"T_5c4c8_level0_row7\" class=\"row_heading level0 row7\" >HYUNDAI</th>\n",
       "                        <td id=\"T_5c4c8_row7_col0\" class=\"data row7 col0\" >435.550000</td>\n",
       "                        <td id=\"T_5c4c8_row7_col1\" class=\"data row7 col1\" >854.000000</td>\n",
       "                        <td id=\"T_5c4c8_row7_col2\" class=\"data row7 col2\" >12.750000</td>\n",
       "                        <td id=\"T_5c4c8_row7_col3\" class=\"data row7 col3\" >85.500000</td>\n",
       "                        <td id=\"T_5c4c8_row7_col4\" class=\"data row7 col4\" >139.380000</td>\n",
       "                        <td id=\"T_5c4c8_row7_col5\" class=\"data row7 col5\" >27</td>\n",
       "                        <td id=\"T_5c4c8_row7_col6\" class=\"data row7 col6\" >8</td>\n",
       "            </tr>\n",
       "            <tr>\n",
       "                        <th id=\"T_5c4c8_level0_row8\" class=\"row_heading level0 row8\" >NO BRAND</th>\n",
       "                        <td id=\"T_5c4c8_row8_col0\" class=\"data row8 col0\" >626.440000</td>\n",
       "                        <td id=\"T_5c4c8_row8_col1\" class=\"data row8 col1\" >690.000000</td>\n",
       "                        <td id=\"T_5c4c8_row8_col2\" class=\"data row8 col2\" >43.500000</td>\n",
       "                        <td id=\"T_5c4c8_row8_col3\" class=\"data row8 col3\" >110.000000</td>\n",
       "                        <td id=\"T_5c4c8_row8_col4\" class=\"data row8 col4\" >73.000000</td>\n",
       "                        <td id=\"T_5c4c8_row8_col5\" class=\"data row8 col5\" >40</td>\n",
       "                        <td id=\"T_5c4c8_row8_col6\" class=\"data row8 col6\" >2</td>\n",
       "            </tr>\n",
       "            <tr>\n",
       "                        <th id=\"T_5c4c8_level0_row9\" class=\"row_heading level0 row9\" >INTERNATIONAL</th>\n",
       "                        <td id=\"T_5c4c8_row9_col0\" class=\"data row9 col0\" >227.670000</td>\n",
       "                        <td id=\"T_5c4c8_row9_col1\" class=\"data row9 col1\" >1321.000000</td>\n",
       "                        <td id=\"T_5c4c8_row9_col2\" class=\"data row9 col2\" >73.670000</td>\n",
       "                        <td id=\"T_5c4c8_row9_col3\" class=\"data row9 col3\" >73.330000</td>\n",
       "                        <td id=\"T_5c4c8_row9_col4\" class=\"data row9 col4\" >122.330000</td>\n",
       "                        <td id=\"T_5c4c8_row9_col5\" class=\"data row9 col5\" >20</td>\n",
       "                        <td id=\"T_5c4c8_row9_col6\" class=\"data row9 col6\" >3</td>\n",
       "            </tr>\n",
       "            <tr>\n",
       "                        <th id=\"T_5c4c8_level0_row10\" class=\"row_heading level0 row10\" >RENAULT</th>\n",
       "                        <td id=\"T_5c4c8_row10_col0\" class=\"data row10 col0\" >170.280000</td>\n",
       "                        <td id=\"T_5c4c8_row10_col1\" class=\"data row10 col1\" >239.500000</td>\n",
       "                        <td id=\"T_5c4c8_row10_col2\" class=\"data row10 col2\" >11.500000</td>\n",
       "                        <td id=\"T_5c4c8_row10_col3\" class=\"data row10 col3\" >55.000000</td>\n",
       "                        <td id=\"T_5c4c8_row10_col4\" class=\"data row10 col4\" >27.000000</td>\n",
       "                        <td id=\"T_5c4c8_row10_col5\" class=\"data row10 col5\" >21</td>\n",
       "                        <td id=\"T_5c4c8_row10_col6\" class=\"data row10 col6\" >2</td>\n",
       "            </tr>\n",
       "            <tr>\n",
       "                        <th id=\"T_5c4c8_level0_row11\" class=\"row_heading level0 row11\" >FORD</th>\n",
       "                        <td id=\"T_5c4c8_row11_col0\" class=\"data row11 col0\" >128.350000</td>\n",
       "                        <td id=\"T_5c4c8_row11_col1\" class=\"data row11 col1\" >554.000000</td>\n",
       "                        <td id=\"T_5c4c8_row11_col2\" class=\"data row11 col2\" >3.000000</td>\n",
       "                        <td id=\"T_5c4c8_row11_col3\" class=\"data row11 col3\" >53.000000</td>\n",
       "                        <td id=\"T_5c4c8_row11_col4\" class=\"data row11 col4\" >136.500000</td>\n",
       "                        <td id=\"T_5c4c8_row11_col5\" class=\"data row11 col5\" >12</td>\n",
       "                        <td id=\"T_5c4c8_row11_col6\" class=\"data row11 col6\" >2</td>\n",
       "            </tr>\n",
       "            <tr>\n",
       "                        <th id=\"T_5c4c8_level0_row12\" class=\"row_heading level0 row12\" >GMC</th>\n",
       "                        <td id=\"T_5c4c8_row12_col0\" class=\"data row12 col0\" >0.000000</td>\n",
       "                        <td id=\"T_5c4c8_row12_col1\" class=\"data row12 col1\" >0.000000</td>\n",
       "                        <td id=\"T_5c4c8_row12_col2\" class=\"data row12 col2\" >0.000000</td>\n",
       "                        <td id=\"T_5c4c8_row12_col3\" class=\"data row12 col3\" >0.000000</td>\n",
       "                        <td id=\"T_5c4c8_row12_col4\" class=\"data row12 col4\" >0.000000</td>\n",
       "                        <td id=\"T_5c4c8_row12_col5\" class=\"data row12 col5\" >0</td>\n",
       "                        <td id=\"T_5c4c8_row12_col6\" class=\"data row12 col6\" >1</td>\n",
       "            </tr>\n",
       "            <tr>\n",
       "                        <th id=\"T_5c4c8_level0_row13\" class=\"row_heading level0 row13\" >VW</th>\n",
       "                        <td id=\"T_5c4c8_row13_col0\" class=\"data row13 col0\" >0.000000</td>\n",
       "                        <td id=\"T_5c4c8_row13_col1\" class=\"data row13 col1\" >0.000000</td>\n",
       "                        <td id=\"T_5c4c8_row13_col2\" class=\"data row13 col2\" >0.000000</td>\n",
       "                        <td id=\"T_5c4c8_row13_col3\" class=\"data row13 col3\" >0.000000</td>\n",
       "                        <td id=\"T_5c4c8_row13_col4\" class=\"data row13 col4\" >0.000000</td>\n",
       "                        <td id=\"T_5c4c8_row13_col5\" class=\"data row13 col5\" >0</td>\n",
       "                        <td id=\"T_5c4c8_row13_col6\" class=\"data row13 col6\" >2</td>\n",
       "            </tr>\n",
       "    </tbody></table>"
      ],
      "text/plain": [
       "<pandas.io.formats.style.Styler at 0x14140232670>"
      ]
     },
     "execution_count": 43,
     "metadata": {},
     "output_type": "execute_result"
    }
   ],
   "source": [
    "avg_df.style.background_gradient(cmap='Blues')"
   ]
  }
 ],
 "metadata": {
  "kernelspec": {
   "display_name": "Python 3",
   "language": "python",
   "name": "python3"
  },
  "language_info": {
   "codemirror_mode": {
    "name": "ipython",
    "version": 3
   },
   "file_extension": ".py",
   "mimetype": "text/x-python",
   "name": "python",
   "nbconvert_exporter": "python",
   "pygments_lexer": "ipython3",
   "version": "3.8.8"
  }
 },
 "nbformat": 4,
 "nbformat_minor": 4
}
